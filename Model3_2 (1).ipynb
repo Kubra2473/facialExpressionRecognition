{
  "nbformat": 4,
  "nbformat_minor": 0,
  "metadata": {
    "colab": {
      "name": "Model3/2.ipynb",
      "provenance": []
    },
    "kernelspec": {
      "name": "python3",
      "display_name": "Python 3"
    },
    "language_info": {
      "name": "python"
    },
    "accelerator": "GPU"
  },
  "cells": [
    {
      "cell_type": "code",
      "execution_count": null,
      "metadata": {
        "id": "Ry8x-ILG5UG3"
      },
      "outputs": [],
      "source": [
        ""
      ]
    },
    {
      "cell_type": "code",
      "execution_count": null,
      "metadata": {
        "id": "3nkAIiwPROH4"
      },
      "outputs": [],
      "source": [
        "import matplotlib.pyplot as plt\n",
        "import numpy as np\n",
        "import pandas as pd\n",
        "import seaborn as sns\n",
        "import os\n",
        "import tensorflow as tf\n",
        "import os,cv2\n",
        "from keras.preprocessing.image import load_img, img_to_array\n",
        "from keras.preprocessing.image import ImageDataGenerator\n",
        "from keras.layers import Dense,Input,Dropout,GlobalAveragePooling2D,Flatten,Conv2D,BatchNormalization,Activation,MaxPooling2D\n",
        "from keras.models import Model,Sequential\n",
        "from tensorflow.keras.optimizers import Adam,SGD,RMSprop\n",
        "def set_seed(seed=200):\n",
        "    tf.random.set_seed(seed)\n",
        "    np.random.seed(seed)\n",
        "    random.seed(seed)\n",
        "    os.environ[\"PYTHONHASHSEED\"] = str(seed)"
      ]
    },
    {
      "cell_type": "code",
      "execution_count": null,
      "metadata": {
        "id": "mqjO8L3h8v5s"
      },
      "outputs": [],
      "source": [
        "import tensorflow as tf\n",
        "from tensorflow import keras"
      ]
    },
    {
      "cell_type": "code",
      "execution_count": null,
      "metadata": {
        "id": "Cr1FtAOQ9ADr",
        "colab": {
          "base_uri": "https://localhost:8080/"
        },
        "outputId": "118a4fde-4237-4e7b-f726-7b978ab5bb58"
      },
      "outputs": [
        {
          "output_type": "stream",
          "name": "stdout",
          "text": [
            "\u001b[?25l\r\u001b[K     |██▌                             | 10 kB 17.2 MB/s eta 0:00:01\r\u001b[K     |█████                           | 20 kB 17.9 MB/s eta 0:00:01\r\u001b[K     |███████▍                        | 30 kB 11.4 MB/s eta 0:00:01\r\u001b[K     |█████████▉                      | 40 kB 7.8 MB/s eta 0:00:01\r\u001b[K     |████████████▎                   | 51 kB 7.6 MB/s eta 0:00:01\r\u001b[K     |██████████████▊                 | 61 kB 8.9 MB/s eta 0:00:01\r\u001b[K     |█████████████████▏              | 71 kB 8.9 MB/s eta 0:00:01\r\u001b[K     |███████████████████▋            | 81 kB 9.1 MB/s eta 0:00:01\r\u001b[K     |██████████████████████          | 92 kB 9.9 MB/s eta 0:00:01\r\u001b[K     |████████████████████████▌       | 102 kB 9.5 MB/s eta 0:00:01\r\u001b[K     |███████████████████████████     | 112 kB 9.5 MB/s eta 0:00:01\r\u001b[K     |█████████████████████████████▍  | 122 kB 9.5 MB/s eta 0:00:01\r\u001b[K     |███████████████████████████████▉| 133 kB 9.5 MB/s eta 0:00:01\r\u001b[K     |████████████████████████████████| 133 kB 9.5 MB/s \n",
            "\u001b[?25h"
          ]
        }
      ],
      "source": [
        "pip install -q -U keras-tuner"
      ]
    },
    {
      "cell_type": "code",
      "execution_count": null,
      "metadata": {
        "id": "xoUk_8c_9BmJ"
      },
      "outputs": [],
      "source": [
        "import keras_tuner as kt"
      ]
    },
    {
      "cell_type": "code",
      "execution_count": null,
      "metadata": {
        "id": "bJnMxXXHl5EA"
      },
      "outputs": [],
      "source": [
        "#Veritabanına baglanma\n",
        "data_path = '/content/drive/MyDrive/OrjinalVeri'\n",
        "data_dir_list = os.listdir(data_path)"
      ]
    },
    {
      "cell_type": "code",
      "execution_count": null,
      "metadata": {
        "id": "yAE2OaXdl6hi"
      },
      "outputs": [],
      "source": [
        "train_dir = data_path \n",
        "# Veri üretimi için parametreleri/argümanları belirtin\n",
        "img_size = (48, 48)\n",
        "batch_size = 64"
      ]
    },
    {
      "cell_type": "code",
      "execution_count": null,
      "metadata": {
        "colab": {
          "base_uri": "https://localhost:8080/"
        },
        "id": "SxMeVvgzmFmO",
        "outputId": "e19e93ad-4e87-4653-a1b5-963e18ea5358"
      },
      "outputs": [
        {
          "output_type": "stream",
          "name": "stdout",
          "text": [
            "Loaded the images of dataset-anger\n",
            "\n",
            "Loaded the images of dataset-contempt\n",
            "\n",
            "Loaded the images of dataset-disgust\n",
            "\n",
            "Loaded the images of dataset-fear\n",
            "\n",
            "Loaded the images of dataset-happy\n",
            "\n",
            "Loaded the images of dataset-neutral\n",
            "\n",
            "Loaded the images of dataset-sad\n",
            "\n",
            "Loaded the images of dataset-surprise\n",
            "\n"
          ]
        },
        {
          "output_type": "execute_result",
          "data": {
            "text/plain": [
              "(41553, 48, 48, 3)"
            ]
          },
          "metadata": {},
          "execution_count": 7
        }
      ],
      "source": [
        "img_data_list=[] #bir liste oluşturuyoruz.\n",
        "for dataset in data_dir_list:#Veritabanı\n",
        "    img_list=os.listdir(data_path+'/'+ dataset)\n",
        "    print ('Loaded the images of dataset-'+'{}\\n'.format(dataset))\n",
        "    for img in img_list:\n",
        "        input_img=cv2.imread(data_path + '/'+ dataset + '/'+ img )\n",
        "        #input_img=cv2.cvtColor(input_img, cv2.COLOR_BGR2GRAY)#Resim üzerinde işlemler\n",
        "        input_img_resize=cv2.resize(input_img,img_size)\n",
        "        img_data_list.append(input_img_resize)\n",
        "        \n",
        "img_data = np.array(img_data_list)\n",
        "img_data = img_data.astype('float32')\n",
        "img_data = img_data/255\n",
        "img_data.shape"
      ]
    },
    {
      "cell_type": "code",
      "execution_count": null,
      "metadata": {
        "colab": {
          "base_uri": "https://localhost:8080/"
        },
        "id": "FFYlTrp1mHAf",
        "outputId": "db3c27c9-5b9b-4028-9cf1-0ec088183b3b"
      },
      "outputs": [
        {
          "output_type": "stream",
          "name": "stdout",
          "text": [
            "(26910, 48, 48, 3)\n",
            "(8311, 48, 48, 3)\n",
            "(6332, 48, 48, 3)\n"
          ]
        }
      ],
      "source": [
        "from sklearn.utils import shuffle\n",
        "from sklearn.model_selection import train_test_split\n",
        "from keras.utils import np_utils\n",
        "num_classes = 8\n",
        "\n",
        "num_of_samples = img_data.shape[0]\n",
        "labels = np.ones((num_of_samples,),dtype='int64')\n",
        "\n",
        "labels[0:5500]=0 #5500\n",
        "labels[5501:9750]=1 #4250\n",
        "labels[9751:14053]=2 #4303\n",
        "labels[14054:19553]=3 #5500\n",
        "labels[19554:25053]=4 #5500\n",
        "labels[25054:30553]=5 #5500\n",
        "labels[30554:36053]=6 #5500\n",
        "labels[36054:41553]=7 #5500\n",
        "names = ['anger','contempt','disgust','fear','happy','neutral','sadness','surprise']\n",
        "\n",
        "def getLabel(id):\n",
        "    return ['anger','contempt','disgust','fear','happy','neutral','sadness','surprise'][id]\n",
        "\n",
        "Y = np_utils.to_categorical(labels, num_classes)\n",
        "train_ratio = 0.64\n",
        "test_ratio = 0.20\n",
        "validation_ratio = 0.16\n",
        "\n",
        "#Veri kümesini karıştır\n",
        "X,y = shuffle(img_data,Y, random_state=2)\n",
        "# Veri kümesini böl\n",
        "X_train, X_test, y_train, y_test = train_test_split(X, y, test_size=test_ratio)\n",
        "\n",
        "X_train, X_valid, y_train, y_valid = train_test_split(X_train, y_train, test_size=validation_ratio/(train_ratio+test_ratio))\n",
        "\n",
        "print(X_train.shape)\n",
        "print(X_test.shape)\n",
        "print(X_valid.shape)"
      ]
    },
    {
      "cell_type": "code",
      "execution_count": null,
      "metadata": {
        "colab": {
          "base_uri": "https://localhost:8080/"
        },
        "id": "2SyvMLb6pLdj",
        "outputId": "7ab05023-e36d-46c4-a0a3-349670c68804"
      },
      "outputs": [
        {
          "output_type": "stream",
          "name": "stdout",
          "text": [
            "X_Train shape (26910, 48, 48, 3)\n",
            "X_Test shape (8311, 48, 48, 3)\n"
          ]
        }
      ],
      "source": [
        "print(\"X_Train shape {}\".format(X_train.shape))\n",
        "print(\"X_Test shape {}\".format(X_test.shape))"
      ]
    },
    {
      "cell_type": "code",
      "execution_count": null,
      "metadata": {
        "id": "6PLirNM1op6E"
      },
      "outputs": [],
      "source": [
        "emotion_labels = ['anger','contempt','disgust','fear','happy','neutral','sadness','surprise']"
      ]
    },
    {
      "cell_type": "code",
      "execution_count": null,
      "metadata": {
        "id": "E-AIAN-Muwzv"
      },
      "outputs": [],
      "source": [
        "X_train, y_train = shuffle(X_train, y_train)\n",
        "X_test, y_test = shuffle(X_test, y_test)\n",
        "\n",
        "imgen_train = ImageDataGenerator(\n",
        "    rotation_range=20,\n",
        "    width_shift_range=0.2,\n",
        "    height_shift_range=0.2,\n",
        "    shear_range=0.1,\n",
        "    zoom_range=0.15,\n",
        "    horizontal_flip=False,\n",
        "    vertical_flip=False\n",
        ")"
      ]
    },
    {
      "cell_type": "code",
      "execution_count": null,
      "metadata": {
        "id": "a1CzTc8AuxPk"
      },
      "outputs": [],
      "source": [
        "imgen_valid = ImageDataGenerator()\n",
        "\n",
        "imgen_train.fit(X_train)\n",
        "imgen_valid.fit(X_test)"
      ]
    },
    {
      "cell_type": "code",
      "execution_count": null,
      "metadata": {
        "id": "aBffcRThph-1"
      },
      "outputs": [],
      "source": [
        "from keras.callbacks import ModelCheckpoint, CSVLogger, TensorBoard, EarlyStopping, ReduceLROnPlateau\n",
        "chk_path = 'ferNet.h5'\n",
        "checkpoint = ModelCheckpoint(filepath=chk_path,\n",
        "                             save_best_only=True,\n",
        "                             verbose=1,\n",
        "                             mode='min',\n",
        "                             moniter='val_loss')\n",
        "\n",
        "earlystop = EarlyStopping(monitor='val_loss', \n",
        "                          min_delta=0, \n",
        "                          patience=5, \n",
        "                          verbose=1, \n",
        "                          restore_best_weights=True)\n",
        "                        \n",
        "reduce_lr = ReduceLROnPlateau(monitor='val_loss', \n",
        "                              factor=0.2, \n",
        "                              patience=5, \n",
        "                              verbose=1, \n",
        "                               min_lr=0.001)\n",
        "\n",
        "\n",
        "callbacks = [earlystop, reduce_lr,checkpoint]"
      ]
    },
    {
      "cell_type": "code",
      "execution_count": null,
      "metadata": {
        "id": "7JvsaBKbvlng"
      },
      "outputs": [],
      "source": [
        "img_width = X_train.shape[1]\n",
        "img_height = X_train.shape[2]\n",
        "img_depth = X_train.shape[3]\n",
        "num_classes = y_train.shape[1]"
      ]
    },
    {
      "cell_type": "code",
      "source": [
        "mobilenet_weights_path='/content/drive/MyDrive/mobilenet_v2_weights_tf_dim_ordering_tf_kernels_1.0_224_no_top.h5'"
      ],
      "metadata": {
        "id": "syS5nWrClVTo"
      },
      "execution_count": null,
      "outputs": []
    },
    {
      "cell_type": "code",
      "source": [
        "def build_model(hp):\n",
        "    \n",
        "    model = keras.Sequential([   \n",
        "    keras.layers.Conv2D(64,3,activation=hp.Choice(\"activation\", [\"relu\", \"elu\"]),padding='same',input_shape=(48,48,3)),\n",
        "    keras.layers.BatchNormalization(),\n",
        "    keras.layers.Dropout(rate=hp.Float(\"dropout_\",min_value=0.2,max_value=0.5,step=0.1)),\n",
        "    # adding second convolutional layer \n",
        "    keras.layers.Conv2D(128,3,activation=hp.Choice(\"activation\", [\"relu\", \"elu\"]),padding='same'),\n",
        "    keras.layers.BatchNormalization(),\n",
        "    keras.layers.MaxPooling2D(3,2),\n",
        "    keras.layers.Dropout(rate=hp.Float(\"dropout_\",min_value=0.2,max_value=0.5,step=0.1)),\n",
        "\n",
        "    keras.layers.Conv2D(128,3,activation=hp.Choice(\"activation\", [\"relu\", \"elu\"]),padding='same'),\n",
        "    keras.layers.BatchNormalization(),\n",
        "    keras.layers.Dropout(rate=hp.Float(\"dropout_\",min_value=0.2,max_value=0.5,step=0.1)),\n",
        "    \n",
        "    keras.layers.Conv2D(256,3,activation=hp.Choice(\"activation\", [\"relu\", \"elu\"]),padding='same'),\n",
        "    keras.layers.BatchNormalization(),\n",
        "    keras.layers.MaxPooling2D(3),\n",
        "    keras.layers.Dropout(rate=hp.Float(\"dropout_\",min_value=0.2,max_value=0.5,step=0.1)),\n",
        "    \n",
        "    keras.layers.Conv2D(512,3,activation=hp.Choice(\"activation\", [\"relu\", \"elu\"]),padding='same'),\n",
        "    keras.layers.BatchNormalization(),\n",
        "    keras.layers.GlobalMaxPooling2D(),\n",
        "    keras.layers.Dropout(rate=hp.Float(\"dropout_\",min_value=0.2,max_value=0.5,step=0.1)),\n",
        "\n",
        "    # adding flatten layer    \n",
        "    keras.layers.Flatten(),\n",
        "    # adding dense layer    \n",
        "    keras.layers.Dense(512, activation=hp.Choice(\"activation\", [\"relu\", \"elu\"])),\n",
        "    keras.layers.Dropout(rate=hp.Float(\"dropout_\",min_value=0.2,max_value=0.5,step=0.1)),\n",
        "    keras.layers.Dense(512, activation=hp.Choice(\"activation\", [\"relu\", \"elu\"])),\n",
        "    keras.layers.Dropout(rate=hp.Float(\"dropout_\",min_value=0.2,max_value=0.5,step=0.1)),\n",
        "    keras.layers.Dense(512, activation=hp.Choice(\"activation\", [\"relu\", \"elu\"])),\n",
        "    keras.layers.Dropout(rate=hp.Float(\"dropout_\",min_value=0.2,max_value=0.5,step=0.1)),\n",
        "    keras.layers.BatchNormalization(),\n",
        "\n",
        "    # output layer    \n",
        "    keras.layers.Dense(8, activation='softmax')\n",
        "    ])\n",
        "    learning_rate = hp.Choice('learning_rate', values=[1e-3, 1e-4, 1e-5])\n",
        "    #compilation of model\n",
        "    optimizer=hp.Choice('optimizer',['adam','RMSprop'])\n",
        "    if hp.Choice('optimizer',['adam','RMSprop'])=='adam':\n",
        "      model.compile(optimizer=keras.optimizers.Adam(hp.Choice('learning_rate', values=[1e-2, 1e-3])),\n",
        "              loss='categorical_crossentropy',\n",
        "              metrics=['accuracy'])\n",
        "    else:\n",
        "      model.compile(\n",
        "          optimizer=keras.optimizers.RMSprop(learning_rate=learning_rate),\n",
        "          loss=\"categorical_crossentropy\",\n",
        "          metrics=[\"accuracy\"],\n",
        "      )\n",
        "    \n",
        "    return model"
      ],
      "metadata": {
        "id": "KlZRoS4ukH-u"
      },
      "execution_count": null,
      "outputs": []
    },
    {
      "cell_type": "code",
      "source": [
        "import keras_tuner as kt\n",
        "from tensorflow.keras import layers\n",
        "tuner = kt.Hyperband(build_model,\n",
        "                     objective='val_accuracy',\n",
        "                     max_epochs=10,\n",
        "                     factor=3,\n",
        "                     directory='my_dir',\n",
        "                     project_name='intro_to_kt')"
      ],
      "metadata": {
        "id": "-7JzU01sUIIh"
      },
      "execution_count": null,
      "outputs": []
    },
    {
      "cell_type": "code",
      "source": [
        "tuner.search_space_summary()"
      ],
      "metadata": {
        "colab": {
          "base_uri": "https://localhost:8080/"
        },
        "id": "R49DjdMSUO2P",
        "outputId": "99dd0645-2103-4eec-e5d1-d943ab1038d7"
      },
      "execution_count": null,
      "outputs": [
        {
          "output_type": "stream",
          "name": "stdout",
          "text": [
            "Search space summary\n",
            "Default search space size: 4\n",
            "activation (Choice)\n",
            "{'default': 'relu', 'conditions': [], 'values': ['relu', 'elu'], 'ordered': False}\n",
            "dropout_ (Float)\n",
            "{'default': 0.2, 'conditions': [], 'min_value': 0.2, 'max_value': 0.5, 'step': 0.1, 'sampling': None}\n",
            "learning_rate (Choice)\n",
            "{'default': 0.001, 'conditions': [], 'values': [0.001, 0.0001, 1e-05], 'ordered': True}\n",
            "optimizer (Choice)\n",
            "{'default': 'adam', 'conditions': [], 'values': ['adam', 'RMSprop'], 'ordered': False}\n"
          ]
        }
      ]
    },
    {
      "cell_type": "code",
      "source": [
        "EPOCHS = 50 \n",
        "BATCH = 64\n",
        "tuner.search(\n",
        "    imgen_train.flow(*shuffle(X_train, y_train), batch_size=BATCH),\n",
        "    steps_per_epoch=X_train.shape[0]//(4*BATCH),\n",
        "    epochs=EPOCHS,\n",
        "    validation_data=imgen_valid.flow(*shuffle(X_test, y_test)),\n",
        "    validation_steps=BATCH)"
      ],
      "metadata": {
        "colab": {
          "base_uri": "https://localhost:8080/"
        },
        "id": "diV9gnajUQVU",
        "outputId": "3edb82ee-b901-48ee-b74e-b876dc104cc0"
      },
      "execution_count": null,
      "outputs": [
        {
          "output_type": "stream",
          "name": "stdout",
          "text": [
            "Trial 30 Complete [00h 02m 26s]\n",
            "val_accuracy: 0.14111328125\n",
            "\n",
            "Best val_accuracy So Far: 0.16943359375\n",
            "Total elapsed time: 00h 35m 05s\n",
            "INFO:tensorflow:Oracle triggered exit\n"
          ]
        }
      ]
    },
    {
      "cell_type": "code",
      "source": [
        "tuner.results_summary()"
      ],
      "metadata": {
        "id": "qq93bTlyUTHg",
        "colab": {
          "base_uri": "https://localhost:8080/"
        },
        "outputId": "3e8ba048-c6d4-4943-b525-306894460fce"
      },
      "execution_count": null,
      "outputs": [
        {
          "output_type": "stream",
          "name": "stdout",
          "text": [
            "Results summary\n",
            "Results in my_dir/intro_to_kt\n",
            "Showing 10 best trials\n",
            "<keras_tuner.engine.objective.Objective object at 0x7f7118f5b810>\n",
            "Trial summary\n",
            "Hyperparameters:\n",
            "activation: elu\n",
            "dropout_: 0.5000000000000001\n",
            "learning_rate: 0.001\n",
            "optimizer: RMSprop\n",
            "tuner/epochs: 10\n",
            "tuner/initial_epoch: 0\n",
            "tuner/bracket: 0\n",
            "tuner/round: 0\n",
            "Score: 0.16943359375\n",
            "Trial summary\n",
            "Hyperparameters:\n",
            "activation: relu\n",
            "dropout_: 0.30000000000000004\n",
            "learning_rate: 0.001\n",
            "optimizer: adam\n",
            "tuner/epochs: 10\n",
            "tuner/initial_epoch: 0\n",
            "tuner/bracket: 0\n",
            "tuner/round: 0\n",
            "Score: 0.16455078125\n",
            "Trial summary\n",
            "Hyperparameters:\n",
            "activation: elu\n",
            "dropout_: 0.4000000000000001\n",
            "learning_rate: 0.0001\n",
            "optimizer: adam\n",
            "tuner/epochs: 2\n",
            "tuner/initial_epoch: 0\n",
            "tuner/bracket: 2\n",
            "tuner/round: 0\n",
            "Score: 0.1591796875\n",
            "Trial summary\n",
            "Hyperparameters:\n",
            "activation: elu\n",
            "dropout_: 0.30000000000000004\n",
            "learning_rate: 0.0001\n",
            "optimizer: adam\n",
            "tuner/epochs: 10\n",
            "tuner/initial_epoch: 0\n",
            "tuner/bracket: 0\n",
            "tuner/round: 0\n",
            "Score: 0.158203125\n",
            "Trial summary\n",
            "Hyperparameters:\n",
            "activation: relu\n",
            "dropout_: 0.30000000000000004\n",
            "learning_rate: 0.001\n",
            "optimizer: RMSprop\n",
            "tuner/epochs: 10\n",
            "tuner/initial_epoch: 4\n",
            "tuner/bracket: 1\n",
            "tuner/round: 1\n",
            "tuner/trial_id: 0022\n",
            "Score: 0.1494140625\n",
            "Trial summary\n",
            "Hyperparameters:\n",
            "activation: elu\n",
            "dropout_: 0.4000000000000001\n",
            "learning_rate: 1e-05\n",
            "optimizer: adam\n",
            "tuner/epochs: 10\n",
            "tuner/initial_epoch: 4\n",
            "tuner/bracket: 1\n",
            "tuner/round: 1\n",
            "tuner/trial_id: 0021\n",
            "Score: 0.146484375\n",
            "Trial summary\n",
            "Hyperparameters:\n",
            "activation: elu\n",
            "dropout_: 0.2\n",
            "learning_rate: 1e-05\n",
            "optimizer: RMSprop\n",
            "tuner/epochs: 10\n",
            "tuner/initial_epoch: 4\n",
            "tuner/bracket: 2\n",
            "tuner/round: 2\n",
            "tuner/trial_id: 0013\n",
            "Score: 0.14306640625\n",
            "Trial summary\n",
            "Hyperparameters:\n",
            "activation: elu\n",
            "dropout_: 0.2\n",
            "learning_rate: 1e-05\n",
            "optimizer: RMSprop\n",
            "tuner/epochs: 2\n",
            "tuner/initial_epoch: 0\n",
            "tuner/bracket: 2\n",
            "tuner/round: 0\n",
            "Score: 0.142578125\n",
            "Trial summary\n",
            "Hyperparameters:\n",
            "activation: relu\n",
            "dropout_: 0.4000000000000001\n",
            "learning_rate: 1e-05\n",
            "optimizer: RMSprop\n",
            "tuner/epochs: 2\n",
            "tuner/initial_epoch: 0\n",
            "tuner/bracket: 2\n",
            "tuner/round: 0\n",
            "Score: 0.14208984375\n",
            "Trial summary\n",
            "Hyperparameters:\n",
            "activation: elu\n",
            "dropout_: 0.4000000000000001\n",
            "learning_rate: 1e-05\n",
            "optimizer: adam\n",
            "tuner/epochs: 4\n",
            "tuner/initial_epoch: 0\n",
            "tuner/bracket: 1\n",
            "tuner/round: 0\n",
            "Score: 0.14208984375\n"
          ]
        }
      ]
    },
    {
      "cell_type": "code",
      "source": [
        "best_hp = tuner.get_best_hyperparameters(num_trials=1)[0]"
      ],
      "metadata": {
        "id": "_QFT9CS5sMKC"
      },
      "execution_count": null,
      "outputs": []
    },
    {
      "cell_type": "code",
      "source": [
        "model = tuner.hypermodel.build(best_hp)"
      ],
      "metadata": {
        "id": "K2YCHJRqsUtB"
      },
      "execution_count": null,
      "outputs": []
    },
    {
      "cell_type": "code",
      "source": [
        "EPOCHS = 50 \n",
        "BATCH = 64\n",
        "\n",
        "history = model.fit_generator(\n",
        "    imgen_train.flow(*shuffle(X_train, y_train), batch_size=BATCH),\n",
        "    steps_per_epoch=X_train.shape[0]//(4*BATCH),\n",
        "    epochs=EPOCHS,\n",
        "    validation_data=imgen_valid.flow(*shuffle(X_test, y_test)),\n",
        "    validation_steps=BATCH\n",
        ")"
      ],
      "metadata": {
        "colab": {
          "base_uri": "https://localhost:8080/"
        },
        "id": "NTa28TIasyjq",
        "outputId": "82ed6912-3d38-4f99-8cec-2c6fddceacea"
      },
      "execution_count": null,
      "outputs": [
        {
          "output_type": "stream",
          "name": "stdout",
          "text": [
            "Epoch 1/50\n"
          ]
        },
        {
          "output_type": "stream",
          "name": "stderr",
          "text": [
            "/usr/local/lib/python3.7/dist-packages/ipykernel_launcher.py:9: UserWarning: `Model.fit_generator` is deprecated and will be removed in a future version. Please use `Model.fit`, which supports generators.\n",
            "  if __name__ == '__main__':\n"
          ]
        },
        {
          "output_type": "stream",
          "name": "stdout",
          "text": [
            "105/105 [==============================] - 15s 121ms/step - loss: 2.6380 - accuracy: 0.1317 - val_loss: 2.0998 - val_accuracy: 0.1367\n",
            "Epoch 2/50\n",
            "105/105 [==============================] - 12s 118ms/step - loss: 2.4401 - accuracy: 0.1284 - val_loss: 2.0853 - val_accuracy: 0.1274\n",
            "Epoch 3/50\n",
            "105/105 [==============================] - 12s 117ms/step - loss: 2.3408 - accuracy: 0.1232 - val_loss: 2.0731 - val_accuracy: 0.1528\n",
            "Epoch 4/50\n",
            "105/105 [==============================] - 12s 117ms/step - loss: 2.2590 - accuracy: 0.1272 - val_loss: 2.0841 - val_accuracy: 0.1431\n",
            "Epoch 5/50\n",
            "105/105 [==============================] - 12s 117ms/step - loss: 2.2102 - accuracy: 0.1290 - val_loss: 2.1535 - val_accuracy: 0.1475\n",
            "Epoch 6/50\n",
            "105/105 [==============================] - 12s 116ms/step - loss: 2.1600 - accuracy: 0.1354 - val_loss: 2.1287 - val_accuracy: 0.1353\n",
            "Epoch 7/50\n",
            "105/105 [==============================] - 12s 116ms/step - loss: 2.1475 - accuracy: 0.1272 - val_loss: 2.0774 - val_accuracy: 0.1377\n",
            "Epoch 8/50\n",
            "105/105 [==============================] - 12s 116ms/step - loss: 2.1342 - accuracy: 0.1274 - val_loss: 2.0693 - val_accuracy: 0.1626\n",
            "Epoch 9/50\n",
            "105/105 [==============================] - 12s 116ms/step - loss: 2.1129 - accuracy: 0.1394 - val_loss: 2.2085 - val_accuracy: 0.1562\n",
            "Epoch 10/50\n",
            "105/105 [==============================] - 12s 117ms/step - loss: 2.1097 - accuracy: 0.1429 - val_loss: 2.0936 - val_accuracy: 0.1543\n",
            "Epoch 11/50\n",
            "105/105 [==============================] - 12s 117ms/step - loss: 2.1119 - accuracy: 0.1366 - val_loss: 2.0768 - val_accuracy: 0.1455\n",
            "Epoch 12/50\n",
            "105/105 [==============================] - 12s 115ms/step - loss: 2.0987 - accuracy: 0.1470 - val_loss: 2.0676 - val_accuracy: 0.1479\n",
            "Epoch 13/50\n",
            "105/105 [==============================] - 12s 118ms/step - loss: 2.1000 - accuracy: 0.1406 - val_loss: 2.0855 - val_accuracy: 0.1372\n",
            "Epoch 14/50\n",
            "105/105 [==============================] - 12s 118ms/step - loss: 2.0964 - accuracy: 0.1408 - val_loss: 2.0787 - val_accuracy: 0.1499\n",
            "Epoch 15/50\n",
            "105/105 [==============================] - 12s 116ms/step - loss: 2.0957 - accuracy: 0.1488 - val_loss: 2.1079 - val_accuracy: 0.1328\n",
            "Epoch 16/50\n",
            "105/105 [==============================] - 12s 117ms/step - loss: 2.1007 - accuracy: 0.1461 - val_loss: 2.0539 - val_accuracy: 0.1699\n",
            "Epoch 17/50\n",
            "105/105 [==============================] - 12s 117ms/step - loss: 2.0955 - accuracy: 0.1518 - val_loss: 2.0784 - val_accuracy: 0.1680\n",
            "Epoch 18/50\n",
            "105/105 [==============================] - 12s 117ms/step - loss: 2.0936 - accuracy: 0.1405 - val_loss: 2.0693 - val_accuracy: 0.1626\n",
            "Epoch 19/50\n",
            "105/105 [==============================] - 12s 117ms/step - loss: 2.0881 - accuracy: 0.1531 - val_loss: 2.0956 - val_accuracy: 0.1436\n",
            "Epoch 20/50\n",
            "105/105 [==============================] - 12s 116ms/step - loss: 2.0897 - accuracy: 0.1466 - val_loss: 2.1735 - val_accuracy: 0.1362\n",
            "Epoch 21/50\n",
            "105/105 [==============================] - 12s 116ms/step - loss: 2.0870 - accuracy: 0.1476 - val_loss: 2.0757 - val_accuracy: 0.1445\n",
            "Epoch 22/50\n",
            "105/105 [==============================] - 12s 117ms/step - loss: 2.0891 - accuracy: 0.1546 - val_loss: 2.0891 - val_accuracy: 0.1313\n",
            "Epoch 23/50\n",
            "105/105 [==============================] - 12s 118ms/step - loss: 2.0883 - accuracy: 0.1425 - val_loss: 2.0630 - val_accuracy: 0.1528\n",
            "Epoch 24/50\n",
            "105/105 [==============================] - 12s 118ms/step - loss: 2.0782 - accuracy: 0.1516 - val_loss: 2.0980 - val_accuracy: 0.1465\n",
            "Epoch 25/50\n",
            "105/105 [==============================] - 12s 117ms/step - loss: 2.0829 - accuracy: 0.1545 - val_loss: 2.0609 - val_accuracy: 0.1694\n",
            "Epoch 26/50\n",
            "105/105 [==============================] - 13s 119ms/step - loss: 2.0803 - accuracy: 0.1499 - val_loss: 2.0987 - val_accuracy: 0.1470\n",
            "Epoch 27/50\n",
            "105/105 [==============================] - 12s 117ms/step - loss: 2.0832 - accuracy: 0.1580 - val_loss: 2.0640 - val_accuracy: 0.1704\n",
            "Epoch 28/50\n",
            "105/105 [==============================] - 12s 117ms/step - loss: 2.0793 - accuracy: 0.1554 - val_loss: 2.0714 - val_accuracy: 0.1582\n",
            "Epoch 29/50\n",
            "105/105 [==============================] - 13s 119ms/step - loss: 2.0796 - accuracy: 0.1539 - val_loss: 2.0746 - val_accuracy: 0.1494\n",
            "Epoch 30/50\n",
            "105/105 [==============================] - 12s 117ms/step - loss: 2.0729 - accuracy: 0.1621 - val_loss: 2.0780 - val_accuracy: 0.1748\n",
            "Epoch 31/50\n",
            "105/105 [==============================] - 15s 145ms/step - loss: 2.0684 - accuracy: 0.1708 - val_loss: 2.0542 - val_accuracy: 0.1738\n",
            "Epoch 32/50\n",
            "105/105 [==============================] - 12s 117ms/step - loss: 2.0643 - accuracy: 0.1662 - val_loss: 2.0699 - val_accuracy: 0.1543\n",
            "Epoch 33/50\n",
            "105/105 [==============================] - 12s 116ms/step - loss: 2.0644 - accuracy: 0.1710 - val_loss: 2.0357 - val_accuracy: 0.1987\n",
            "Epoch 34/50\n",
            "105/105 [==============================] - 12s 116ms/step - loss: 2.0516 - accuracy: 0.1757 - val_loss: 2.0257 - val_accuracy: 0.2007\n",
            "Epoch 35/50\n",
            "105/105 [==============================] - 12s 116ms/step - loss: 2.0443 - accuracy: 0.1842 - val_loss: 2.0051 - val_accuracy: 0.2109\n",
            "Epoch 36/50\n",
            "105/105 [==============================] - 12s 117ms/step - loss: 2.0507 - accuracy: 0.1820 - val_loss: 1.9949 - val_accuracy: 0.2153\n",
            "Epoch 37/50\n",
            "105/105 [==============================] - 12s 116ms/step - loss: 2.0292 - accuracy: 0.1994 - val_loss: 2.0219 - val_accuracy: 0.2080\n",
            "Epoch 38/50\n",
            "105/105 [==============================] - 13s 122ms/step - loss: 2.0234 - accuracy: 0.1999 - val_loss: 1.9602 - val_accuracy: 0.2363\n",
            "Epoch 39/50\n",
            "105/105 [==============================] - 12s 116ms/step - loss: 2.0107 - accuracy: 0.2110 - val_loss: 1.9678 - val_accuracy: 0.2271\n",
            "Epoch 40/50\n",
            "105/105 [==============================] - 12s 116ms/step - loss: 2.0006 - accuracy: 0.2140 - val_loss: 1.9179 - val_accuracy: 0.2627\n",
            "Epoch 41/50\n",
            "105/105 [==============================] - 12s 116ms/step - loss: 1.9965 - accuracy: 0.2122 - val_loss: 1.9000 - val_accuracy: 0.2695\n",
            "Epoch 42/50\n",
            "105/105 [==============================] - 12s 116ms/step - loss: 1.9873 - accuracy: 0.2210 - val_loss: 1.9177 - val_accuracy: 0.2642\n",
            "Epoch 43/50\n",
            "105/105 [==============================] - 12s 118ms/step - loss: 1.9798 - accuracy: 0.2214 - val_loss: 1.8994 - val_accuracy: 0.2661\n",
            "Epoch 44/50\n",
            "105/105 [==============================] - 12s 118ms/step - loss: 1.9548 - accuracy: 0.2315 - val_loss: 1.8656 - val_accuracy: 0.2603\n",
            "Epoch 45/50\n",
            "105/105 [==============================] - 12s 118ms/step - loss: 1.9513 - accuracy: 0.2384 - val_loss: 1.9330 - val_accuracy: 0.2397\n",
            "Epoch 46/50\n",
            "105/105 [==============================] - 12s 117ms/step - loss: 1.9374 - accuracy: 0.2513 - val_loss: 1.8617 - val_accuracy: 0.2808\n",
            "Epoch 47/50\n",
            "105/105 [==============================] - 13s 120ms/step - loss: 1.9267 - accuracy: 0.2537 - val_loss: 1.8339 - val_accuracy: 0.2900\n",
            "Epoch 48/50\n",
            "105/105 [==============================] - 12s 117ms/step - loss: 1.9248 - accuracy: 0.2552 - val_loss: 1.8556 - val_accuracy: 0.2808\n",
            "Epoch 49/50\n",
            "105/105 [==============================] - 12s 117ms/step - loss: 1.9151 - accuracy: 0.2609 - val_loss: 1.8495 - val_accuracy: 0.2783\n",
            "Epoch 50/50\n",
            "105/105 [==============================] - 13s 119ms/step - loss: 1.9145 - accuracy: 0.2552 - val_loss: 1.8758 - val_accuracy: 0.2681\n"
          ]
        }
      ]
    },
    {
      "cell_type": "code",
      "source": [
        "Epochs=50\n",
        "plt.figure(figsize=(14,5))\n",
        "plt.subplot(1,2,2)\n",
        "plt.plot(history.history['accuracy'])\n",
        "plt.plot(history.history['val_accuracy'])\n",
        "plt.title('Model Accuracy')\n",
        "plt.xlabel('Epochs')\n",
        "plt.ylabel('Accuracy')\n",
        "plt.legend(['train', 'validation'], loc='upper left')\n",
        "\n",
        "plt.subplot(1,2,1)\n",
        "plt.plot(history.history['loss'])\n",
        "plt.plot(history.history['val_loss'])\n",
        "plt.title('model Loss')\n",
        "plt.xlabel('Epochs')\n",
        "plt.ylabel('Loss')\n",
        "plt.legend(['train', 'validation'], loc='upper left')\n",
        "plt.show()"
      ],
      "metadata": {
        "colab": {
          "base_uri": "https://localhost:8080/",
          "height": 350
        },
        "id": "c-Vl5MHs4JAO",
        "outputId": "d1e98b97-c4e6-45e1-802b-0f34ebaaba94"
      },
      "execution_count": null,
      "outputs": [
        {
          "output_type": "display_data",
          "data": {
            "text/plain": [
              "<Figure size 1008x360 with 2 Axes>"
            ],
            "image/png": "[encoded data removed]"
          },
          "metadata": {
            "needs_background": "light"
          }
        }
      ]
    },
    {
      "cell_type": "code",
      "source": [
        "#test başarısı\n",
        "model_acc = model.evaluate(X_test, y_test, verbose=0)[1]\n",
        "print(\"Test Accuracy: {:.3f}%\".format(model_acc * 100))"
      ],
      "metadata": {
        "colab": {
          "base_uri": "https://localhost:8080/"
        },
        "id": "edJpveB94Jge",
        "outputId": "e393a52e-4d7e-4720-a8af-89381019a1d3"
      },
      "execution_count": null,
      "outputs": [
        {
          "output_type": "stream",
          "name": "stdout",
          "text": [
            "Test Accuracy: 27.807%\n"
          ]
        }
      ]
    },
    {
      "cell_type": "code",
      "source": [
        "from sklearn.metrics import accuracy_score\n",
        "test_true = np.argmax(y_test, axis=1)\n",
        "test_pred = np.argmax(model.predict(X_test), axis=1)\n",
        "print(\"CNN Model Accuracy on test set: {:.4f}\".format(accuracy_score(test_true, test_pred)))"
      ],
      "metadata": {
        "colab": {
          "base_uri": "https://localhost:8080/"
        },
        "id": "2qoBnPEr4T0C",
        "outputId": "5d448541-d9e1-48df-bf6d-310215739158"
      },
      "execution_count": null,
      "outputs": [
        {
          "output_type": "stream",
          "name": "stdout",
          "text": [
            "CNN Model Accuracy on test set: 0.2781\n"
          ]
        }
      ]
    },
    {
      "cell_type": "code",
      "execution_count": null,
      "metadata": {
        "colab": {
          "base_uri": "https://localhost:8080/"
        },
        "id": "DTriSsY5hlQ8",
        "outputId": "5b532050-39cf-41b1-d5b5-55a366092e0d"
      },
      "outputs": [
        {
          "output_type": "stream",
          "name": "stdout",
          "text": [
            "CNN Model Accuracy on test set: 0.2781\n"
          ]
        }
      ],
      "source": [
        "from sklearn.metrics import accuracy_score\n",
        "test_true = np.argmax(y_test, axis=1)\n",
        "test_pred = np.argmax(model.predict(X_test), axis=1)\n",
        "print(\"CNN Model Accuracy on test set: {:.4f}\".format(accuracy_score(test_true, test_pred)))"
      ]
    },
    {
      "cell_type": "code",
      "execution_count": null,
      "metadata": {
        "id": "Wg5XdBZxmxeZ"
      },
      "outputs": [],
      "source": [
        "from sklearn.metrics import classification_report, confusion_matrix\n",
        "def plot_confusion_matrix(y_true, y_pred, classes,\n",
        "                          normalize=False,\n",
        "                          title=None,\n",
        "                          cmap=plt.cm.Blues):\n",
        "  \n",
        "    if not title:\n",
        "        if normalize:\n",
        "            title = 'Normalized confusion matrix'\n",
        "        else:\n",
        "            title = 'Confusion matrix, without normalization'\n",
        "\n",
        "    # Hesaplama karışıklık matrisi\n",
        "    cm = confusion_matrix(y_true, y_pred)\n",
        "    # Yalnızca verilerde görünen etiketleri kullanın\n",
        "    classes = classes\n",
        "    if normalize:\n",
        "        cm = cm.astype('float') / cm.sum(axis=1)[:, np.newaxis]\n",
        "        #print(\"Normalized confusion matrix\")\n",
        "    #else:\n",
        "        #print('Confusion matrix, without normalization')\n",
        "\n",
        "    #print(cm)\n",
        "\n",
        "    fig, ax = plt.subplots(figsize=(12,6))\n",
        "    im = ax.imshow(cm, interpolation='nearest', cmap=cmap)\n",
        "    ax.figure.colorbar(im, ax=ax)\n",
        "    # We want to show all ticks...\n",
        "    ax.set(xticks=np.arange(cm.shape[1]),\n",
        "           yticks=np.arange(cm.shape[0]),\n",
        "           # ... and label them with the respective list entries\n",
        "           xticklabels=classes, yticklabels=classes,\n",
        "           title=title,\n",
        "           ylabel='True label',\n",
        "           xlabel='Predicted label')\n",
        "\n",
        "    # Rotate the tick labels and set their alignment.\n",
        "    plt.setp(ax.get_xticklabels(), rotation=45, ha=\"right\",\n",
        "             rotation_mode=\"anchor\")\n",
        "\n",
        "    # Loop over data dimensions and create text annotations.\n",
        "    fmt = '.2f' if normalize else 'd'\n",
        "    thresh = cm.max() / 2.\n",
        "    for i in range(cm.shape[0]):\n",
        "        for j in range(cm.shape[1]):\n",
        "            ax.text(j, i, format(cm[i, j], fmt),\n",
        "                    ha=\"center\", va=\"center\",\n",
        "                    color=\"white\" if cm[i, j] > thresh else \"black\")\n",
        "    fig.tight_layout()\n",
        "    return ax"
      ]
    },
    {
      "cell_type": "code",
      "execution_count": null,
      "metadata": {
        "colab": {
          "base_uri": "https://localhost:8080/",
          "height": 441
        },
        "id": "GlHMvGnHokjH",
        "outputId": "c3b502d9-c75d-42e9-990e-0022379215aa"
      },
      "outputs": [
        {
          "output_type": "display_data",
          "data": {
            "text/plain": [
              "<Figure size 864x432 with 2 Axes>"
            ],
            "image/png": "[encoded data removed]"
          },
          "metadata": {
            "needs_background": "light"
          }
        }
      ],
      "source": [
        "plot_confusion_matrix(test_true, test_pred, classes=emotion_labels, normalize=True, title='Normalized confusion matrix')\n",
        "plt.show()"
      ]
    },
    {
      "cell_type": "code",
      "execution_count": null,
      "metadata": {
        "colab": {
          "base_uri": "https://localhost:8080/"
        },
        "id": "RFKFZglLpe2H",
        "outputId": "37925e9c-cacc-49a1-bcee-a23811fd258a"
      },
      "outputs": [
        {
          "output_type": "stream",
          "name": "stdout",
          "text": [
            "              precision    recall  f1-score   support\n",
            "\n",
            "       anger     0.3296    0.2622    0.2920      1110\n",
            "    contempt     0.1966    0.0945    0.1276       847\n",
            "     disgust     0.2143    0.0036    0.0071       827\n",
            "        fear     0.3017    0.1648    0.2132      1098\n",
            "       happy     0.3097    0.7920    0.4453      1130\n",
            "     neutral     0.2409    0.2804    0.2592      1084\n",
            "     sadness     0.2097    0.0610    0.0945      1132\n",
            "    surprise     0.2534    0.4506    0.3244      1083\n",
            "\n",
            "    accuracy                         0.2781      8311\n",
            "   macro avg     0.2570    0.2636    0.2204      8311\n",
            "weighted avg     0.2603    0.2781    0.2304      8311\n",
            "\n"
          ]
        }
      ],
      "source": [
        "from sklearn.metrics import classification_report\n",
        "target_names=emotion_labels\n",
        "print(classification_report(test_true, test_pred, target_names=target_names, digits=4))"
      ]
    },
    {
      "cell_type": "code",
      "execution_count": null,
      "metadata": {
        "colab": {
          "base_uri": "https://localhost:8080/"
        },
        "id": "09I-B3KoroN4",
        "outputId": "8e352716-0538-4f9b-f034-036f20341f5d"
      },
      "outputs": [
        {
          "output_type": "execute_result",
          "data": {
            "text/plain": [
              "0.2780652147755986"
            ]
          },
          "metadata": {},
          "execution_count": 31
        }
      ],
      "source": [
        "from sklearn.metrics import accuracy_score\n",
        "accuracy_score(test_true, test_pred)"
      ]
    },
    {
      "cell_type": "markdown",
      "source": [
        "# Yeni Bölüm"
      ],
      "metadata": {
        "id": "zV_BkJBsmZ4s"
      }
    },
    {
      "cell_type": "code",
      "source": [
        "EPOCHS = 50 \n",
        "BATCH = 64\n",
        "\n",
        "history = model.fit_generator(\n",
        "    imgen_train.flow(*shuffle(X_train, y_train), batch_size=BATCH),\n",
        "    steps_per_epoch=X_train.shape[0]//(4*BATCH),\n",
        "    epochs=EPOCHS,\n",
        "    callbacks=callbacks,\n",
        "    validation_data=imgen_valid.flow(*shuffle(X_test, y_test)),\n",
        "    validation_steps=BATCH\n",
        ")"
      ],
      "metadata": {
        "colab": {
          "base_uri": "https://localhost:8080/"
        },
        "outputId": "bfe8d01f-448d-41b0-a1d2-210ac1f3ff02",
        "id": "Heekas-t---c"
      },
      "execution_count": null,
      "outputs": [
        {
          "output_type": "stream",
          "name": "stdout",
          "text": [
            "Epoch 1/50\n"
          ]
        },
        {
          "output_type": "stream",
          "name": "stderr",
          "text": [
            "/usr/local/lib/python3.7/dist-packages/ipykernel_launcher.py:10: UserWarning: `Model.fit_generator` is deprecated and will be removed in a future version. Please use `Model.fit`, which supports generators.\n",
            "  # Remove the CWD from sys.path while we load stuff.\n"
          ]
        },
        {
          "output_type": "stream",
          "name": "stdout",
          "text": [
            "105/105 [==============================] - ETA: 0s - loss: 1.8940 - accuracy: 0.2673\n",
            "Epoch 1: val_loss improved from inf to 1.78335, saving model to ferNet.h5\n",
            "105/105 [==============================] - 16s 156ms/step - loss: 1.8940 - accuracy: 0.2673 - val_loss: 1.7833 - val_accuracy: 0.2944 - lr: 0.0010\n",
            "Epoch 2/50\n",
            "105/105 [==============================] - ETA: 0s - loss: 1.8872 - accuracy: 0.2680\n",
            "Epoch 2: val_loss did not improve from 1.78335\n",
            "105/105 [==============================] - 12s 116ms/step - loss: 1.8872 - accuracy: 0.2680 - val_loss: 1.7961 - val_accuracy: 0.3071 - lr: 0.0010\n",
            "Epoch 3/50\n",
            "105/105 [==============================] - ETA: 0s - loss: 1.8733 - accuracy: 0.2732\n",
            "Epoch 3: val_loss did not improve from 1.78335\n",
            "105/105 [==============================] - 12s 116ms/step - loss: 1.8733 - accuracy: 0.2732 - val_loss: 1.8088 - val_accuracy: 0.3018 - lr: 0.0010\n",
            "Epoch 4/50\n",
            "105/105 [==============================] - ETA: 0s - loss: 1.8744 - accuracy: 0.2865\n",
            "Epoch 4: val_loss did not improve from 1.78335\n",
            "105/105 [==============================] - 13s 124ms/step - loss: 1.8744 - accuracy: 0.2865 - val_loss: 1.7989 - val_accuracy: 0.3145 - lr: 0.0010\n",
            "Epoch 5/50\n",
            "105/105 [==============================] - ETA: 0s - loss: 1.8709 - accuracy: 0.2839\n",
            "Epoch 5: val_loss improved from 1.78335 to 1.76009, saving model to ferNet.h5\n",
            "105/105 [==============================] - 13s 119ms/step - loss: 1.8709 - accuracy: 0.2839 - val_loss: 1.7601 - val_accuracy: 0.3330 - lr: 0.0010\n",
            "Epoch 6/50\n",
            "105/105 [==============================] - ETA: 0s - loss: 1.8636 - accuracy: 0.2897\n",
            "Epoch 6: val_loss improved from 1.76009 to 1.74851, saving model to ferNet.h5\n",
            "105/105 [==============================] - 13s 119ms/step - loss: 1.8636 - accuracy: 0.2897 - val_loss: 1.7485 - val_accuracy: 0.3311 - lr: 0.0010\n",
            "Epoch 7/50\n",
            "105/105 [==============================] - ETA: 0s - loss: 1.8513 - accuracy: 0.2891\n",
            "Epoch 7: val_loss did not improve from 1.74851\n",
            "105/105 [==============================] - 12s 116ms/step - loss: 1.8513 - accuracy: 0.2891 - val_loss: 1.8347 - val_accuracy: 0.2764 - lr: 0.0010\n",
            "Epoch 8/50\n",
            "105/105 [==============================] - ETA: 0s - loss: 1.8652 - accuracy: 0.2857\n",
            "Epoch 8: val_loss did not improve from 1.74851\n",
            "105/105 [==============================] - 12s 116ms/step - loss: 1.8652 - accuracy: 0.2857 - val_loss: 1.8234 - val_accuracy: 0.3018 - lr: 0.0010\n",
            "Epoch 9/50\n",
            "105/105 [==============================] - ETA: 0s - loss: 1.8452 - accuracy: 0.2857\n",
            "Epoch 9: val_loss did not improve from 1.74851\n",
            "105/105 [==============================] - 12s 116ms/step - loss: 1.8452 - accuracy: 0.2857 - val_loss: 1.7764 - val_accuracy: 0.3027 - lr: 0.0010\n",
            "Epoch 10/50\n",
            "105/105 [==============================] - ETA: 0s - loss: 1.8330 - accuracy: 0.2924\n",
            "Epoch 10: val_loss improved from 1.74851 to 1.74823, saving model to ferNet.h5\n",
            "105/105 [==============================] - 12s 118ms/step - loss: 1.8330 - accuracy: 0.2924 - val_loss: 1.7482 - val_accuracy: 0.3218 - lr: 0.0010\n",
            "Epoch 11/50\n",
            "105/105 [==============================] - ETA: 0s - loss: 1.8227 - accuracy: 0.2988\n",
            "Epoch 11: val_loss improved from 1.74823 to 1.73486, saving model to ferNet.h5\n",
            "105/105 [==============================] - 13s 119ms/step - loss: 1.8227 - accuracy: 0.2988 - val_loss: 1.7349 - val_accuracy: 0.3413 - lr: 0.0010\n",
            "Epoch 12/50\n",
            "105/105 [==============================] - ETA: 0s - loss: 1.8268 - accuracy: 0.2940\n",
            "Epoch 12: val_loss did not improve from 1.73486\n",
            "105/105 [==============================] - 12s 117ms/step - loss: 1.8268 - accuracy: 0.2940 - val_loss: 1.8799 - val_accuracy: 0.2793 - lr: 0.0010\n",
            "Epoch 13/50\n",
            "105/105 [==============================] - ETA: 0s - loss: 1.8089 - accuracy: 0.3095\n",
            "Epoch 13: val_loss improved from 1.73486 to 1.72082, saving model to ferNet.h5\n",
            "105/105 [==============================] - 12s 118ms/step - loss: 1.8089 - accuracy: 0.3095 - val_loss: 1.7208 - val_accuracy: 0.3340 - lr: 0.0010\n",
            "Epoch 14/50\n",
            "105/105 [==============================] - ETA: 0s - loss: 1.8108 - accuracy: 0.3027\n",
            "Epoch 14: val_loss improved from 1.72082 to 1.67747, saving model to ferNet.h5\n",
            "105/105 [==============================] - 12s 118ms/step - loss: 1.8108 - accuracy: 0.3027 - val_loss: 1.6775 - val_accuracy: 0.3423 - lr: 0.0010\n",
            "Epoch 15/50\n",
            "105/105 [==============================] - ETA: 0s - loss: 1.8083 - accuracy: 0.2976\n",
            "Epoch 15: val_loss did not improve from 1.67747\n",
            "105/105 [==============================] - 12s 118ms/step - loss: 1.8083 - accuracy: 0.2976 - val_loss: 1.6792 - val_accuracy: 0.3384 - lr: 0.0010\n",
            "Epoch 16/50\n",
            "105/105 [==============================] - ETA: 0s - loss: 1.7851 - accuracy: 0.3153\n",
            "Epoch 16: val_loss did not improve from 1.67747\n",
            "105/105 [==============================] - 12s 117ms/step - loss: 1.7851 - accuracy: 0.3153 - val_loss: 1.6960 - val_accuracy: 0.3359 - lr: 0.0010\n",
            "Epoch 17/50\n",
            "105/105 [==============================] - ETA: 0s - loss: 1.7919 - accuracy: 0.3024\n",
            "Epoch 17: val_loss did not improve from 1.67747\n",
            "105/105 [==============================] - 12s 116ms/step - loss: 1.7919 - accuracy: 0.3024 - val_loss: 1.7092 - val_accuracy: 0.3315 - lr: 0.0010\n",
            "Epoch 18/50\n",
            "105/105 [==============================] - ETA: 0s - loss: 1.7981 - accuracy: 0.2993\n",
            "Epoch 18: val_loss did not improve from 1.67747\n",
            "105/105 [==============================] - 12s 116ms/step - loss: 1.7981 - accuracy: 0.2993 - val_loss: 1.6861 - val_accuracy: 0.3540 - lr: 0.0010\n",
            "Epoch 19/50\n",
            "105/105 [==============================] - ETA: 0s - loss: 1.7977 - accuracy: 0.3098Restoring model weights from the end of the best epoch: 14.\n",
            "\n",
            "Epoch 19: val_loss did not improve from 1.67747\n",
            "105/105 [==============================] - 12s 116ms/step - loss: 1.7977 - accuracy: 0.3098 - val_loss: 1.7108 - val_accuracy: 0.3359 - lr: 0.0010\n",
            "Epoch 19: early stopping\n"
          ]
        }
      ]
    },
    {
      "cell_type": "code",
      "source": [
        "Epochs=50\n",
        "plt.figure(figsize=(14,5))\n",
        "plt.subplot(1,2,2)\n",
        "plt.plot(history.history['accuracy'])\n",
        "plt.plot(history.history['val_accuracy'])\n",
        "plt.title('Model Accuracy')\n",
        "plt.xlabel('Epochs')\n",
        "plt.ylabel('Accuracy')\n",
        "plt.legend(['train', 'validation'], loc='upper left')\n",
        "\n",
        "plt.subplot(1,2,1)\n",
        "plt.plot(history.history['loss'])\n",
        "plt.plot(history.history['val_loss'])\n",
        "plt.title('model Loss')\n",
        "plt.xlabel('Epochs')\n",
        "plt.ylabel('Loss')\n",
        "plt.legend(['train', 'validation'], loc='upper left')\n",
        "plt.show()"
      ],
      "metadata": {
        "colab": {
          "base_uri": "https://localhost:8080/",
          "height": 350
        },
        "outputId": "37eaafc0-e586-43a4-ac3b-2fcbfa4856f9",
        "id": "cTQlJRjy---d"
      },
      "execution_count": null,
      "outputs": [
        {
          "output_type": "display_data",
          "data": {
            "text/plain": [
              "<Figure size 1008x360 with 2 Axes>"
            ],
            "image/png": "[encoded data removed]"
          },
          "metadata": {
            "needs_background": "light"
          }
        }
      ]
    },
    {
      "cell_type": "code",
      "source": [
        "#test başarısı\n",
        "model_acc = model.evaluate(X_test, y_test, verbose=0)[1]\n",
        "print(\"Test Accuracy: {:.3f}%\".format(model_acc * 100))"
      ],
      "metadata": {
        "colab": {
          "base_uri": "https://localhost:8080/"
        },
        "outputId": "237096c9-23a8-4e49-c1d4-9d452c4ca1bf",
        "id": "LbPklqD1---e"
      },
      "execution_count": null,
      "outputs": [
        {
          "output_type": "stream",
          "name": "stdout",
          "text": [
            "Test Accuracy: 34.316%\n"
          ]
        }
      ]
    },
    {
      "cell_type": "code",
      "execution_count": null,
      "metadata": {
        "colab": {
          "base_uri": "https://localhost:8080/"
        },
        "outputId": "b4e841e7-6b3f-4320-d779-3ecf426e72dd",
        "id": "PuHePrarRy19"
      },
      "outputs": [
        {
          "output_type": "stream",
          "name": "stdout",
          "text": [
            "CNN Model Accuracy on test set: 0.3432\n"
          ]
        }
      ],
      "source": [
        "from sklearn.metrics import accuracy_score\n",
        "test_true = np.argmax(y_test, axis=1)\n",
        "test_pred = np.argmax(model.predict(X_test), axis=1)\n",
        "print(\"CNN Model Accuracy on test set: {:.4f}\".format(accuracy_score(test_true, test_pred)))"
      ]
    },
    {
      "cell_type": "code",
      "execution_count": null,
      "metadata": {
        "id": "e1s6jBXBRy19"
      },
      "outputs": [],
      "source": [
        "from sklearn.metrics import classification_report, confusion_matrix\n",
        "def plot_confusion_matrix(y_true, y_pred, classes,\n",
        "                          normalize=False,\n",
        "                          title=None,\n",
        "                          cmap=plt.cm.Blues):\n",
        "  \n",
        "    if not title:\n",
        "        if normalize:\n",
        "            title = 'Normalized confusion matrix'\n",
        "        else:\n",
        "            title = 'Confusion matrix, without normalization'\n",
        "\n",
        "    # Hesaplama karışıklık matrisi\n",
        "    cm = confusion_matrix(y_true, y_pred)\n",
        "    # Yalnızca verilerde görünen etiketleri kullanın\n",
        "    classes = classes\n",
        "    if normalize:\n",
        "        cm = cm.astype('float') / cm.sum(axis=1)[:, np.newaxis]\n",
        "        #print(\"Normalized confusion matrix\")\n",
        "    #else:\n",
        "        #print('Confusion matrix, without normalization')\n",
        "\n",
        "    #print(cm)\n",
        "\n",
        "    fig, ax = plt.subplots(figsize=(12,6))\n",
        "    im = ax.imshow(cm, interpolation='nearest', cmap=cmap)\n",
        "    ax.figure.colorbar(im, ax=ax)\n",
        "    # We want to show all ticks...\n",
        "    ax.set(xticks=np.arange(cm.shape[1]),\n",
        "           yticks=np.arange(cm.shape[0]),\n",
        "           # ... and label them with the respective list entries\n",
        "           xticklabels=classes, yticklabels=classes,\n",
        "           title=title,\n",
        "           ylabel='True label',\n",
        "           xlabel='Predicted label')\n",
        "\n",
        "    # Rotate the tick labels and set their alignment.\n",
        "    plt.setp(ax.get_xticklabels(), rotation=45, ha=\"right\",\n",
        "             rotation_mode=\"anchor\")\n",
        "\n",
        "    # Loop over data dimensions and create text annotations.\n",
        "    fmt = '.2f' if normalize else 'd'\n",
        "    thresh = cm.max() / 2.\n",
        "    for i in range(cm.shape[0]):\n",
        "        for j in range(cm.shape[1]):\n",
        "            ax.text(j, i, format(cm[i, j], fmt),\n",
        "                    ha=\"center\", va=\"center\",\n",
        "                    color=\"white\" if cm[i, j] > thresh else \"black\")\n",
        "    fig.tight_layout()\n",
        "    return ax"
      ]
    },
    {
      "cell_type": "code",
      "execution_count": null,
      "metadata": {
        "colab": {
          "base_uri": "https://localhost:8080/",
          "height": 441
        },
        "outputId": "cb289ebc-7e7c-47b3-a07f-281167b8201d",
        "id": "oipTna68Ry19"
      },
      "outputs": [
        {
          "output_type": "display_data",
          "data": {
            "text/plain": [
              "<Figure size 864x432 with 2 Axes>"
            ],
            "image/png": "[encoded data removed]"
          },
          "metadata": {
            "needs_background": "light"
          }
        }
      ],
      "source": [
        "plot_confusion_matrix(test_true, test_pred, classes=emotion_labels, normalize=True, title='Normalized confusion matrix')\n",
        "plt.show()"
      ]
    },
    {
      "cell_type": "code",
      "execution_count": null,
      "metadata": {
        "colab": {
          "base_uri": "https://localhost:8080/"
        },
        "outputId": "17373bd9-c59c-4062-8193-329d39694a9e",
        "id": "05a9ZSRaRy1-"
      },
      "outputs": [
        {
          "output_type": "stream",
          "name": "stdout",
          "text": [
            "              precision    recall  f1-score   support\n",
            "\n",
            "       anger     0.3107    0.5477    0.3965      1110\n",
            "    contempt     0.3333    0.2349    0.2756       847\n",
            "     disgust     0.2406    0.0387    0.0667       827\n",
            "        fear     0.4014    0.1020    0.1627      1098\n",
            "       happy     0.5287    0.6681    0.5903      1130\n",
            "     neutral     0.2995    0.2832    0.2911      1084\n",
            "     sadness     0.2382    0.1599    0.1913      1132\n",
            "    surprise     0.3086    0.6076    0.4093      1083\n",
            "\n",
            "    accuracy                         0.3432      8311\n",
            "   macro avg     0.3326    0.3303    0.2979      8311\n",
            "weighted avg     0.3360    0.3432    0.3068      8311\n",
            "\n"
          ]
        }
      ],
      "source": [
        "from sklearn.metrics import classification_report\n",
        "target_names=emotion_labels\n",
        "print(classification_report(test_true, test_pred, target_names=target_names, digits=4))"
      ]
    },
    {
      "cell_type": "code",
      "execution_count": null,
      "metadata": {
        "colab": {
          "base_uri": "https://localhost:8080/"
        },
        "outputId": "b71f3364-d080-47b1-b30c-16e5b5b74d70",
        "id": "VOOTuCpqRy1-"
      },
      "outputs": [
        {
          "output_type": "execute_result",
          "data": {
            "text/plain": [
              "0.3431596679099988"
            ]
          },
          "metadata": {},
          "execution_count": 39
        }
      ],
      "source": [
        "from sklearn.metrics import accuracy_score\n",
        "accuracy_score(test_true, test_pred)"
      ]
    }
  ]
}